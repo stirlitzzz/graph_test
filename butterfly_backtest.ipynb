{
 "cells": [
  {
   "cell_type": "code",
   "execution_count": 17,
   "metadata": {},
   "outputs": [],
   "source": [
    "import numpy as np\n",
    "import pandas as pd"
   ]
  },
  {
   "attachments": {},
   "cell_type": "markdown",
   "metadata": {},
   "source": [
    "1. load the file\n",
    "2. create universe dataframe\n",
    "3. create buy sell signal\n",
    "4. price all options"
   ]
  },
  {
   "cell_type": "code",
   "execution_count": 2,
   "metadata": {},
   "outputs": [],
   "source": [
    "df_spx=pd.read_csv('SPX.csv')  \n",
    "df_spx['date']=pd.to_datetime(df_spx['date'])\n",
    "df_spx.index=df_spx['date']\n",
    "df_spx=df_spx.sort_index()"
   ]
  },
  {
   "cell_type": "code",
   "execution_count": 18,
   "metadata": {},
   "outputs": [
    {
     "data": {
      "text/html": [
       "<div>\n",
       "<style scoped>\n",
       "    .dataframe tbody tr th:only-of-type {\n",
       "        vertical-align: middle;\n",
       "    }\n",
       "\n",
       "    .dataframe tbody tr th {\n",
       "        vertical-align: top;\n",
       "    }\n",
       "\n",
       "    .dataframe thead th {\n",
       "        text-align: right;\n",
       "    }\n",
       "</style>\n",
       "<table border=\"1\" class=\"dataframe\">\n",
       "  <thead>\n",
       "    <tr style=\"text-align: right;\">\n",
       "      <th></th>\n",
       "      <th>px</th>\n",
       "      <th>12m atm vol</th>\n",
       "      <th>24m atm vol</th>\n",
       "      <th>12m slope</th>\n",
       "      <th>24m slope</th>\n",
       "    </tr>\n",
       "    <tr>\n",
       "      <th>date</th>\n",
       "      <th></th>\n",
       "      <th></th>\n",
       "      <th></th>\n",
       "      <th></th>\n",
       "      <th></th>\n",
       "    </tr>\n",
       "  </thead>\n",
       "  <tbody>\n",
       "    <tr>\n",
       "      <th>2005-05-18</th>\n",
       "      <td>1185.56</td>\n",
       "      <td>14.7994</td>\n",
       "      <td>16.1761</td>\n",
       "      <td>-0.830764</td>\n",
       "      <td>-2.561531</td>\n",
       "    </tr>\n",
       "    <tr>\n",
       "      <th>2005-05-19</th>\n",
       "      <td>1191.08</td>\n",
       "      <td>14.4530</td>\n",
       "      <td>15.7034</td>\n",
       "      <td>-0.832010</td>\n",
       "      <td>-2.310149</td>\n",
       "    </tr>\n",
       "    <tr>\n",
       "      <th>2005-05-20</th>\n",
       "      <td>1189.28</td>\n",
       "      <td>14.3018</td>\n",
       "      <td>15.6604</td>\n",
       "      <td>-0.847508</td>\n",
       "      <td>-2.447997</td>\n",
       "    </tr>\n",
       "    <tr>\n",
       "      <th>2005-05-23</th>\n",
       "      <td>1193.86</td>\n",
       "      <td>14.0931</td>\n",
       "      <td>15.3672</td>\n",
       "      <td>-0.861660</td>\n",
       "      <td>-2.837509</td>\n",
       "    </tr>\n",
       "    <tr>\n",
       "      <th>2005-05-24</th>\n",
       "      <td>1194.07</td>\n",
       "      <td>14.0674</td>\n",
       "      <td>15.4045</td>\n",
       "      <td>-0.840980</td>\n",
       "      <td>-2.289923</td>\n",
       "    </tr>\n",
       "    <tr>\n",
       "      <th>...</th>\n",
       "      <td>...</td>\n",
       "      <td>...</td>\n",
       "      <td>...</td>\n",
       "      <td>...</td>\n",
       "      <td>...</td>\n",
       "    </tr>\n",
       "    <tr>\n",
       "      <th>2020-10-15</th>\n",
       "      <td>3483.34</td>\n",
       "      <td>22.2533</td>\n",
       "      <td>21.6859</td>\n",
       "      <td>-3.730241</td>\n",
       "      <td>-3.464660</td>\n",
       "    </tr>\n",
       "    <tr>\n",
       "      <th>2020-10-16</th>\n",
       "      <td>3483.81</td>\n",
       "      <td>22.5848</td>\n",
       "      <td>21.8534</td>\n",
       "      <td>-3.816402</td>\n",
       "      <td>-3.597786</td>\n",
       "    </tr>\n",
       "    <tr>\n",
       "      <th>2020-10-19</th>\n",
       "      <td>3426.92</td>\n",
       "      <td>23.4197</td>\n",
       "      <td>22.4914</td>\n",
       "      <td>-3.765921</td>\n",
       "      <td>-3.487846</td>\n",
       "    </tr>\n",
       "    <tr>\n",
       "      <th>2020-10-20</th>\n",
       "      <td>3443.12</td>\n",
       "      <td>23.1988</td>\n",
       "      <td>22.3674</td>\n",
       "      <td>-3.884822</td>\n",
       "      <td>-3.608498</td>\n",
       "    </tr>\n",
       "    <tr>\n",
       "      <th>2020-10-21</th>\n",
       "      <td>3435.56</td>\n",
       "      <td>23.1988</td>\n",
       "      <td>22.2671</td>\n",
       "      <td>-3.775788</td>\n",
       "      <td>-3.475795</td>\n",
       "    </tr>\n",
       "  </tbody>\n",
       "</table>\n",
       "<p>4026 rows × 5 columns</p>\n",
       "</div>"
      ],
      "text/plain": [
       "                 px  12m atm vol  24m atm vol  12m slope  24m slope\n",
       "date                                                               \n",
       "2005-05-18  1185.56      14.7994      16.1761  -0.830764  -2.561531\n",
       "2005-05-19  1191.08      14.4530      15.7034  -0.832010  -2.310149\n",
       "2005-05-20  1189.28      14.3018      15.6604  -0.847508  -2.447997\n",
       "2005-05-23  1193.86      14.0931      15.3672  -0.861660  -2.837509\n",
       "2005-05-24  1194.07      14.0674      15.4045  -0.840980  -2.289923\n",
       "...             ...          ...          ...        ...        ...\n",
       "2020-10-15  3483.34      22.2533      21.6859  -3.730241  -3.464660\n",
       "2020-10-16  3483.81      22.5848      21.8534  -3.816402  -3.597786\n",
       "2020-10-19  3426.92      23.4197      22.4914  -3.765921  -3.487846\n",
       "2020-10-20  3443.12      23.1988      22.3674  -3.884822  -3.608498\n",
       "2020-10-21  3435.56      23.1988      22.2671  -3.775788  -3.475795\n",
       "\n",
       "[4026 rows x 5 columns]"
      ]
     },
     "execution_count": 18,
     "metadata": {},
     "output_type": "execute_result"
    }
   ],
   "source": [
    "df_bvols=pd.read_excel('bloomberg_spx_vols_values.xlsx', index_col=0) \n",
    "#df_bvols['Date']=pd.to_datetime(df_bvols['Date'])\n",
    "#df_bvols.index=df_bvols['date']\n",
    "#df_bvols=df_bvols.sort_index()\n",
    "df_bvols=df_bvols['2005-05-18':]\n",
    "df_bvols"
   ]
  },
  {
   "cell_type": "code",
   "execution_count": 15,
   "metadata": {},
   "outputs": [],
   "source": [
    "pct_strikes=np.array([0.85,1,1,1.15])\n",
    "maturity_days=720\n",
    "maturity_years=2\n",
    "price_field=\"px\"\n",
    "vol12_field=\"12m atm vol\"\n",
    "vol24_field=\"24m atm vol\"\n",
    "slope12_field=\"12m slope\"\n",
    "slope24_field=\"24m slope\"\n",
    "spot_field=\"px\"\n",
    "df_bvols[vol12_field]=df_bvols[vol12_field]/100\n",
    "df_bvols[vol24_field]=df_bvols[vol24_field]/100\n",
    "df_bvols[slope12_field]=df_bvols[slope12_field]/100\n",
    "df_bvols[slope24_field]=df_bvols[slope24_field]/100\n",
    "\n",
    "df_bvols.replace(0, np.nan, inplace=True)\n",
    "df_bvols=df_bvols.fillna(method='ffill')\n",
    "df_option_universe=pd.DataFrame(index=df_bvols.index)\n",
    "strikes_universe=[]\n",
    "creation_dates_universe=[]\n",
    "maturity_dates_universe=[]\n",
    "pc_universe=[]\n",
    "\n",
    "for ind, row in df_bvols.iterrows():\n",
    "    strikes=pct_strikes*row[price_field]\n",
    "    pc=['p']*2+['c']*2\n",
    "    creation_dates=[ind]*4\n",
    "    maturity_dates=[ind+pd.Timedelta(days=maturity_years*365)]*4\n",
    "    maturity_dates=pd.to_datetime(maturity_dates)\n",
    "    strikes_universe.extend(strikes)\n",
    "    creation_dates_universe.extend(creation_dates)\n",
    "    maturity_dates_universe.extend(maturity_dates)\n",
    "    pc_universe.extend(pc)\n",
    "\n",
    "    #df_option_universe.loc[ind,'strikes']=strikes\n",
    "    \n",
    "    #if ind.day==1:\n",
    "    #    df_spx.loc[ind,'pct_strike']=pct_strikes[np.random.randint(0,4)]\n",
    "    #    df_spx.loc[ind,'maturity_days']=maturity_days\n",
    "    #    maturity_days+=90\n",
    "\n",
    "\n",
    "# create grids of strikes, creation dates, maturity dates, and pc]\n",
    "\n",
    "strikes_universe=np.array(strikes_universe)\n",
    "creation_dates_universe=np.array(creation_dates_universe)\n",
    "maturity_dates_universe=np.array(maturity_dates_universe)\n",
    "pc_universe=np.array(pc_universe)\n",
    "\n",
    "spot_array=df_bvols[spot_field].values\n",
    "\n",
    "#create 2d grids of strikes, creation dates, maturity dates, and pc where one dimension is the index of bvols and the other is the index of the strike\n",
    "strikes_grid=np.tile(strikes_universe, (len(df_bvols),1))\n",
    "creation_dates_grid=np.tile(creation_dates_universe, (len(df_bvols),1))\n",
    "#need to figure out whiy the following needed to be done (convert back to datetime)\n",
    "maturity_dates_grid=np.tile(maturity_dates_universe, (len(df_bvols),1))\n",
    "pc_grid=np.tile(pc_universe, (len(df_bvols),1))\n",
    "spot_grid=np.tile(df_bvols[spot_field].values, (len(strikes_universe),1)).T\n",
    "vol12_grid=np.tile(df_bvols[vol12_field].values, (len(strikes_universe),1)).T\n",
    "vol24_grid=np.tile(df_bvols[vol24_field].values, (len(strikes_universe),1)).T\n",
    "slope12_grid=np.tile(df_bvols[slope12_field].values, (len(strikes_universe),1)).T\n",
    "slope24_grid=np.tile(df_bvols[slope24_field].values, (len(strikes_universe),1)).T\n",
    "date_grid=np.tile(df_bvols.index.to_numpy(), (len(strikes_universe),1)).T"
   ]
  },
  {
   "cell_type": "code",
   "execution_count": 5,
   "metadata": {},
   "outputs": [],
   "source": [
    "myfunc_vec = np.vectorize(lambda x: x.to_datetime64())\n",
    "texp_grid=(myfunc_vec(maturity_dates_grid) -date_grid)/np.timedelta64(1, 'D')/365\n"
   ]
  },
  {
   "cell_type": "code",
   "execution_count": 6,
   "metadata": {},
   "outputs": [
    {
     "data": {
      "text/plain": [
       "array([[ 2.        ,  2.        ,  2.        , ..., 17.43835616,\n",
       "        17.43835616, 17.43835616],\n",
       "       [ 1.99726027,  1.99726027,  1.99726027, ..., 17.43561644,\n",
       "        17.43561644, 17.43561644],\n",
       "       [ 1.99452055,  1.99452055,  1.99452055, ..., 17.43287671,\n",
       "        17.43287671, 17.43287671],\n",
       "       ...,\n",
       "       [        nan,         nan,         nan, ...,  2.00547945,\n",
       "         2.00547945,  2.00547945],\n",
       "       [        nan,         nan,         nan, ...,  2.00273973,\n",
       "         2.00273973,  2.00273973],\n",
       "       [        nan,         nan,         nan, ...,  2.        ,\n",
       "         2.        ,  2.        ]])"
      ]
     },
     "execution_count": 6,
     "metadata": {},
     "output_type": "execute_result"
    }
   ],
   "source": [
    "np.where(texp_grid<0, np.nan, texp_grid)"
   ]
  },
  {
   "cell_type": "code",
   "execution_count": 8,
   "metadata": {},
   "outputs": [
    {
     "name": "stderr",
     "output_type": "stream",
     "text": [
      "/var/folders/c1/dv7w7b2x49j3spqsxnz6y_sw0000gn/T/ipykernel_32489/3305075419.py:27: RuntimeWarning: invalid value encountered in sqrt\n",
      "  spot_vol_grid=np.where(texp_grid<=0, np.nan, term_vol_grid+term_slope_grid*np.log(strikes_grid/spot_grid)*10/np.sqrt(texp_grid))\n",
      "/var/folders/c1/dv7w7b2x49j3spqsxnz6y_sw0000gn/T/ipykernel_32489/3305075419.py:27: RuntimeWarning: divide by zero encountered in divide\n",
      "  spot_vol_grid=np.where(texp_grid<=0, np.nan, term_vol_grid+term_slope_grid*np.log(strikes_grid/spot_grid)*10/np.sqrt(texp_grid))\n"
     ]
    },
    {
     "data": {
      "text/plain": [
       "array([[0.17686371, 0.161761  , 0.161761  , ..., 0.09649694, 0.09649694,\n",
       "        0.09177612],\n",
       "       [0.17136375, 0.15775774, 0.15775774, ..., 0.09842716, 0.09842716,\n",
       "        0.09416929],\n",
       "       [0.171472  , 0.15707065, 0.15707065, ..., 0.09440651, 0.09440651,\n",
       "        0.08989422],\n",
       "       ...,\n",
       "       [       nan,        nan,        nan, ..., 0.22429383, 0.22429383,\n",
       "        0.20533903],\n",
       "       [       nan,        nan,        nan, ..., 0.22423448, 0.22423448,\n",
       "        0.20461059],\n",
       "       [       nan,        nan,        nan, ..., 0.222671  , 0.222671  ,\n",
       "        0.20375584]])"
      ]
     },
     "execution_count": 8,
     "metadata": {},
     "output_type": "execute_result"
    }
   ],
   "source": [
    "from scipy import interpolate\n",
    "#interp_date_grid, interp_term_grid=np.meshgrid(df_bvols.index, [1,2],indexing='ij')\n",
    "#create a table of atm vols and slopes for each date.\n",
    "#rows are dates, columns are terms\n",
    "#then we can go row by row and interpolate the vols and slopes for each instrument maturit, then use the interpolated vols and slopes to calculate the vol of each instrument\n",
    "ivols_for_interp=df_bvols[[vol12_field,vol12_field, vol24_field,vol24_field]].values\n",
    "slops_for_interp=df_bvols[[slope12_field,slope12_field, slope24_field,slope24_field]].values\n",
    "#vol_interp=interpolate.RegularGridInterpolator((interp_date_grid, interp_term_grid), ivols_for_interp, method='linear')\n",
    "#interp_date_grid.shape\n",
    "\n",
    "# using giant negative value for initial interp point, need to fix, so that we dont have terms below zero\n",
    "interp_terms=np.array([-50000,1,2,10000])\n",
    "strike_vol_grid=np.zeros_like(strikes_grid)\n",
    "strike_slope_grid=np.zeros_like(strikes_grid)\n",
    "\n",
    "term_vol_grid=np.zeros_like(strikes_grid)\n",
    "term_slope_grid=np.zeros_like(strikes_grid)\n",
    "\n",
    "for i in range(len(df_bvols)):\n",
    "    vol_interp=interpolate.interp1d(interp_terms, ivols_for_interp[i,:], kind='linear')\n",
    "    slop_interp=interpolate.interp1d(interp_terms, slops_for_interp[i,:], kind='linear')\n",
    "    term_vol_grid[i,:]=vol_interp(texp_grid[i,:])\n",
    "    term_slope_grid[i,:]=slop_interp(texp_grid[i,:])\n",
    "\n",
    "#compute spot vols from term vols and slopes \n",
    "#spot_vol_grid=term_vol_grid+term_slope_grid*np.log(strikes_grid/spot_grid)*10/np.sqrt(texp_grid)\n",
    "spot_vol_grid=np.where(texp_grid<=0, np.nan, term_vol_grid+term_slope_grid*np.log(strikes_grid/spot_grid)*10/np.sqrt(texp_grid))\n",
    "spot_vol_grid"
   ]
  },
  {
   "cell_type": "code",
   "execution_count": 9,
   "metadata": {},
   "outputs": [],
   "source": [
    "import py_vollib.black_scholes\n",
    "import py_vollib_vectorized"
   ]
  },
  {
   "cell_type": "code",
   "execution_count": 10,
   "metadata": {},
   "outputs": [],
   "source": [
    "\n",
    "price=py_vollib_vectorized.models.vectorized_black_scholes_merton(pc_grid.flatten(),spot_grid.flatten(),strikes_grid.flatten(),texp_grid.flatten(),0,spot_vol_grid.flatten(),0,return_as='array')\n",
    "price=price.reshape(spot_grid.shape)\n",
    "option_greeks = py_vollib_vectorized.get_all_greeks(pc_grid.flatten(), spot_grid, strikes_grid, texp_grid, 0, spot_vol_grid,0,model='black_scholes_merton', return_as='dict')\n"
   ]
  },
  {
   "cell_type": "code",
   "execution_count": 11,
   "metadata": {},
   "outputs": [],
   "source": [
    "option_greeks={k: np.array(v).reshape(spot_grid.shape) for k, v in option_greeks.items()}\n"
   ]
  },
  {
   "cell_type": "code",
   "execution_count": 12,
   "metadata": {},
   "outputs": [
    {
     "data": {
      "text/plain": [
       "array([[       nan,        nan,        nan, ...,        nan,        nan,\n",
       "               nan],\n",
       "       [0.17686371, 0.161761  , 0.161761  , ..., 0.09649694, 0.09649694,\n",
       "        0.09177612],\n",
       "       [0.17136375, 0.15775774, 0.15775774, ..., 0.09842716, 0.09842716,\n",
       "        0.09416929],\n",
       "       ...,\n",
       "       [       nan,        nan,        nan, ..., 0.22206995, 0.22206995,\n",
       "        0.20255762],\n",
       "       [       nan,        nan,        nan, ..., 0.22429383, 0.22429383,\n",
       "        0.20533903],\n",
       "       [       nan,        nan,        nan, ..., 0.22423448, 0.22423448,\n",
       "        0.20461059]])"
      ]
     },
     "execution_count": 12,
     "metadata": {},
     "output_type": "execute_result"
    }
   ],
   "source": [
    "\n",
    "# do pl attribution\n",
    "spot_lag_grid=np.roll(spot_grid,shift =1, axis=0)\n",
    "spot_vol_lag_grid=np.roll(spot_vol_grid,shift =1, axis=0)\n",
    "#texp_lag_grid=np.roll(texp_grid,shift =1, axis=0)\n",
    "for grid in [spot_lag_grid,spot_vol_lag_grid]:\n",
    "    grid[0,:]=np.nan\n",
    "\n",
    "price_open=py_vollib_vectorized.models.vectorized_black_scholes_merton(pc_grid.flatten(),spot_lag_grid,strikes_grid,texp_grid,0,spot_vol_lag_grid.flatten(),0,return_as='array')\n",
    "price_open=price_open.reshape(spot_grid.shape)\n",
    "option_greeks_open=py_vollib_vectorized.get_all_greeks(pc_grid.flatten(), spot_lag_grid, strikes_grid, texp_grid, 0, spot_vol_lag_grid,0,model='black_scholes_merton', return_as='dict')\n",
    "option_greeks_open={k: np.array(v).reshape(spot_grid.shape) for k, v in option_greeks_open.items()}\n",
    "price_spot_move=py_vollib_vectorized.models.vectorized_black_scholes_merton(pc_grid.flatten(),spot_grid,strikes_grid,texp_grid,0,spot_vol_lag_grid,0,return_as='array')\n",
    "price_spot_move=price_spot_move.reshape(spot_grid.shape)\n",
    "spot_vol_lag_grid\n",
    "#spot_grid.shape\n",
    "#spot_grid\n",
    "#grd"
   ]
  },
  {
   "attachments": {},
   "cell_type": "markdown",
   "metadata": {},
   "source": [
    "1) start with today (date), spot,vol (t-1) =>price_open\n",
    "2) date, spot, today vol (t-1) => prices_spot_move"
   ]
  },
  {
   "cell_type": "code",
   "execution_count": 13,
   "metadata": {},
   "outputs": [],
   "source": [
    "price_lag=np.roll(price,shift =1, axis=0)\n",
    "price_lag[0,:]=np.nan\n",
    "pnl_theta_open=price_open-price_lag\n",
    "pnl_spot=price_spot_move-price_open\n",
    "pnl_vol=price-price_spot_move\n",
    "#rename this to gamma\n",
    "pnl_spot_dn=pnl_spot-option_greeks_open['delta']*(spot_grid-spot_lag_grid)"
   ]
  },
  {
   "attachments": {},
   "cell_type": "markdown",
   "metadata": {},
   "source": [
    "create the positions\n",
    "for every day add options that were created on that day"
   ]
  },
  {
   "cell_type": "code",
   "execution_count": 35,
   "metadata": {},
   "outputs": [
    {
     "data": {
      "text/plain": [
       "array([[0.00046549, 0.00042174, 0.00042174, ..., 0.        , 0.        ,\n",
       "        0.        ],\n",
       "       [0.00046549, 0.00042174, 0.00042174, ..., 0.        , 0.        ,\n",
       "        0.        ],\n",
       "       [0.00046549, 0.00042174, 0.00042174, ..., 0.        , 0.        ,\n",
       "        0.        ],\n",
       "       ...,\n",
       "       [0.        , 0.        , 0.        , ..., 0.        , 0.        ,\n",
       "        0.        ],\n",
       "       [0.        , 0.        , 0.        , ..., 0.        , 0.        ,\n",
       "        0.        ],\n",
       "       [0.        , 0.        , 0.        , ..., 0.00014554, 0.00014554,\n",
       "        0.00014623]])"
      ]
     },
     "execution_count": 35,
     "metadata": {},
     "output_type": "execute_result"
    }
   ],
   "source": [
    "#pre: creation_dates_universe has the list of dates for each option\n",
    "#for each date take four options at a time, put a buy order\n",
    "portfolio=np.zeros_like(texp_grid)\n",
    "for i in range(len(df_bvols)):\n",
    "    strikes=strikes_universe[i*4:(i+1)*4]\n",
    "    vegas=option_greeks['vega'][i,i*4:(i+1)*4]\n",
    "    deltas=option_greeks['delta'][i,i*4:(i+1)*4]\n",
    "    #print(f'date: { df_bvols.index[i]} buy {strikes} at {vegas} deltas {deltas}')\n",
    " \n",
    "    qty=[.5*vegas[1]/vegas[0],.5,.5,.5*vegas[3]/vegas[2]]/df_bvols[spot_field].values[i]\n",
    "    d_sum=np.array(deltas)@np.array(qty)\n",
    "    qty[1]=qty[1]-d_sum\n",
    "    qty[1]=qty[1]+d_sum\n",
    "    if(i>0):\n",
    "        portfolio[i,:]=np.where(texp_grid[i,:]>.9,portfolio[i-1,:],0)\n",
    "\n",
    "\n",
    "    #print(f'texp_grid[i,:]: {texp_grid[i,:]}')\n",
    "\n",
    "    portfolio[i,i*4:(i+1)*4]=qty\n",
    "\n",
    "portfolio\n",
    "\n"
   ]
  },
  {
   "cell_type": "code",
   "execution_count": 36,
   "metadata": {},
   "outputs": [],
   "source": [
    "qty_lag=np.roll(portfolio,shift =1, axis=0)\n",
    "qty_lag[0,:]=0\n",
    "pnl_all=qty_lag*(price-price_lag)\n",
    "pnl_delta_neutral=pnl_all-option_greeks_open['delta']*(spot_grid-spot_lag_grid)\n",
    "\n",
    "pnl_attrib_vol=qty_lag*pnl_vol\n",
    "pnl_attrib_spot=qty_lag*pnl_spot\n",
    "pnl_attrib_theta=qty_lag*pnl_theta_open\n",
    "pnl_attrib_spot_dn=qty_lag*pnl_spot_dn\n",
    "#pnl_attrib_gamma=qty_lag*option_greeks_open['gamma']*(spot_grid-spot_lag_grid)**2\n",
    "#pnl_attrib_vega=qty_lag*option_greeks_open['vega']*(spot_vol_grid-spot_vol_lag_grid)\n",
    "#pnl_attrib_rho=qty_lag*option_greeks_open['rho']*(spot_grid-spot_lag_grid)*.01\n",
    "#pnl_attrib_theta=qty_lag*pnl_theta_open\n",
    "\n"
   ]
  },
  {
   "cell_type": "code",
   "execution_count": 50,
   "metadata": {},
   "outputs": [
    {
     "data": {
      "text/plain": [
       "[<matplotlib.lines.Line2D at 0x14cfba050>]"
      ]
     },
     "execution_count": 50,
     "metadata": {},
     "output_type": "execute_result"
    },
    {
     "data": {
      "image/png": "[encoded data removed]",
      "text/plain": [
       "<Figure size 640x480 with 1 Axes>"
      ]
     },
     "metadata": {},
     "output_type": "display_data"
    }
   ],
   "source": [
    "total_pnl=pnl_all.sum(axis=1)\n",
    "import matplotlib.pyplot as plt\n",
    "#plt.plot(df_bvols.index,total_pnl.cumsum())\n",
    "pnl_all=np.where(qty_lag==0,0,pnl_all)\n",
    "pnl_all\n",
    "plt.plot(df_bvols.index,pnl_all.sum(axis=1).cumsum())\n"
   ]
  },
  {
   "cell_type": "code",
   "execution_count": 174,
   "metadata": {},
   "outputs": [],
   "source": [
    "#price=py_vollib_vectorized.models.vectorized_black_scholes_merton(pc_grid.flatten(),spot_grid.flatten(),strikes_grid.flatten(),texp_grid.flatten(),0,spot_vol_grid.flatten(),0)\n"
   ]
  },
  {
   "cell_type": "code",
   "execution_count": 16,
   "metadata": {},
   "outputs": [
    {
     "data": {
      "text/plain": [
       "array([[ 3.,  5.,  7.,  9.],\n",
       "       [ 6.,  8., 10., 12.],\n",
       "       [11., 13., 15., 17.],\n",
       "       [18., 20., 22., 24.],\n",
       "       [27., 29., 31., 33.],\n",
       "       [38., 40., 42., 44.],\n",
       "       [51., 53., 55., 57.],\n",
       "       [66., 68., 70., 72.],\n",
       "       [83., 85., 87., 89.]])"
      ]
     },
     "execution_count": 16,
     "metadata": {},
     "output_type": "execute_result"
    }
   ],
   "source": [
    "#try interpolation\n",
    "a=np.arange(1,10)\n",
    "b=np.arange(1,5)\n",
    "\n",
    "ag,bg=np.meshgrid(a,b,indexing='ij')\n",
    "c=ag*ag+2*bg\n",
    "c\n",
    "d=interpolate.RegularGridInterpolator((a,b),c, method='linear')\n",
    "d((ag,bg))\n"
   ]
  },
  {
   "cell_type": "code",
   "execution_count": 27,
   "metadata": {},
   "outputs": [
    {
     "data": {
      "text/plain": [
       "array([nan, nan, nan,  4.,  5.])"
      ]
     },
     "execution_count": 27,
     "metadata": {},
     "output_type": "execute_result"
    }
   ],
   "source": [
    "a=[-1,-1,0,2,2]\n",
    "b=[1,2,3,4,5]\n",
    "np.where(np.array(a)>0, np.array(b), np.nan)\n"
   ]
  }
 ],
 "metadata": {
  "kernelspec": {
   "display_name": "base",
   "language": "python",
   "name": "python3"
  },
  "language_info": {
   "codemirror_mode": {
    "name": "ipython",
    "version": 3
   },
   "file_extension": ".py",
   "mimetype": "text/x-python",
   "name": "python",
   "nbconvert_exporter": "python",
   "pygments_lexer": "ipython3",
   "version": "3.10.8"
  },
  "orig_nbformat": 4,
  "vscode": {
   "interpreter": {
    "hash": "b3f891915f5e54f8277f3503ba6bfa153f48eaa19dd0131aee95f74186c1b9af"
   }
  }
 },
 "nbformat": 4,
 "nbformat_minor": 2
}
