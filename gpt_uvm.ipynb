{
  "nbformat": 4,
  "nbformat_minor": 0,
  "metadata": {
    "colab": {
      "provenance": [],
      "toc_visible": true,
      "authorship_tag": "ABX9TyMFY74j7xBG+hTh++6ZK/NJ",
      "include_colab_link": true
    },
    "kernelspec": {
      "name": "python3",
      "display_name": "Python 3"
    },
    "language_info": {
      "name": "python"
    }
  },
  "cells": [
    {
      "cell_type": "markdown",
      "metadata": {
        "id": "view-in-github",
        "colab_type": "text"
      },
      "source": [
        "<a href=\"https://colab.research.google.com/github/stirlitzzz/graph_test/blob/main/gpt_uvm.ipynb\" target=\"_parent\"><img src=\"https://colab.research.google.com/assets/colab-badge.svg\" alt=\"Open In Colab\"/></a>"
      ]
    },
    {
      "cell_type": "markdown",
      "source": [
        "###UVM model"
      ],
      "metadata": {
        "id": "pP74jvElC0zt"
      }
    },
    {
      "cell_type": "code",
      "source": [
        "import numpy as np\n",
        "\n",
        "def generate_recombinant_tree(S, T, r, sigma, num_time_steps=20):\n",
        "    dt = T / num_time_steps\n",
        "\n",
        "\n",
        "    # Initialize the 2D grid for the recombinant tree\n",
        "    grid = np.zeros((2 * num_time_steps + 1, num_time_steps + 1))\n",
        "\n",
        "    # Set the first column of the grid based on the provided formula\n",
        "    x_values = np.arange(-num_time_steps, num_time_steps + 1)\n",
        "    grid[:, 0] = S * np.exp(x_values * sigma * np.sqrt(dt))\n",
        "\n",
        "    # Generate the rest of the recombinant tree using broadcasting\n",
        "    r_exp = np.exp(r * dt)\n",
        "    for t in range(1, num_time_steps + 1):\n",
        "        grid[:, t] = grid[:, t - 1] * r_exp\n",
        "\n",
        "    return grid.T\n",
        "\n",
        "def trinomial_transitions_av(dt,sigma,sigma_max):\n",
        "    u=np.exp(sigma_max * np.sqrt(dt)+r*dt)\n",
        "    d=np.exp(-sigma_max * np.sqrt(dt)+r*dt)\n",
        "    m=np.exp(r*dt)\n",
        "    return u, d,m\n",
        "\n",
        "def trinomial_transition_probabilities_av(dt, r, sigma, sigma_max):\n",
        "    p = (sigma ** 2) / (2 * sigma_max ** 2)\n",
        "    pu = p*(1-sigma_max * np.sqrt(dt)/2)\n",
        "    pd = p*(1+sigma_max * np.sqrt(dt)/2) \n",
        "\n",
        "    pm = 1 - 2*p\n",
        "    return pu, pm, pd\n",
        "\n",
        "def initialize_option_grid(spot_grid, strike, T, r, cp):\n",
        "    num_time_steps, num_spots = spot_grid.shape\n",
        "    dt = T / (num_time_steps - 1)\n",
        "    option_grid = np.zeros((num_time_steps, num_spots))\n",
        "\n",
        "    # Set boundary conditions for the last time step\n",
        "    if cp == 'c':\n",
        "        option_grid[-1, :] = np.maximum(spot_grid[-1, :] - strike, 0)\n",
        "    elif cp == 'p':\n",
        "        option_grid[-1, :] = np.maximum(strike - spot_grid[-1, :], 0)\n",
        "    else:\n",
        "        raise ValueError(\"cp must be either 'c' for call or 'p' for put.\")\n",
        "\n",
        "    # Set boundary conditions for all time steps for the highest and lowest spot\n",
        "    for t in range(num_time_steps):\n",
        "        if cp == 'c':\n",
        "            option_grid[t, 0] = np.maximum(spot_grid[t, 0] - strike, 0) * np.exp(-r * (T - t * dt))\n",
        "            option_grid[t, -1] = np.maximum(spot_grid[t, -1] - strike, 0) * np.exp(-r * (T - t * dt))\n",
        "        elif cp == 'p':\n",
        "            option_grid[t, 0] = np.maximum(strike - spot_grid[t, 0], 0) * np.exp(-r * (T - t * dt))\n",
        "            option_grid[t, -1] = np.maximum(strike - spot_grid[t, -1], 0) * np.exp(-r * (T - t * dt))\n",
        "\n",
        "    return option_grid\n",
        "\n",
        "\n",
        "def create_L_operator(dt, sigma):\n",
        "    w_up = (1 - sigma * np.sqrt(dt) / 2)\n",
        "    w_dn = (1 + sigma * np.sqrt(dt) / 2)\n",
        "    w_md = -1\n",
        "    #the division by two is not \n",
        "\n",
        "    return w_dn, w_md, w_up\n",
        "\n",
        "\n",
        "\n",
        "\n",
        "\n"
      ],
      "metadata": {
        "id": "w0JX_SpyAL-c"
      },
      "execution_count": 31,
      "outputs": []
    },
    {
      "cell_type": "code",
      "source": [
        "def uncertain_volatility_pde_portfolio_v2(S,cp, strikes, qtys, T, r, vol_min, vol_max, num_grid_points=200):\n",
        "    \"\"\"\n",
        "    Estimate the prices, deltas, and gammas of European options in a portfolio using the uncertain volatility model\n",
        "    and an explicit finite difference method.\n",
        "\n",
        "    Parameters:\n",
        "    S (float): Current stock price\n",
        "    cp (list of str): Call or put ('c' or 'p')\n",
        "    strikes (list of float): List of option strike prices\n",
        "    qtys (list of int): List of option quantities\n",
        "    T (float): Time to expiration (in years)\n",
        "    r (float): Annual risk-free interest rate\n",
        "    vol_min (float): Minimum annual stock price volatility (as a decimal)\n",
        "    vol_max (float): Maximum annual stock price volatility (as a decimal)\n",
        "    num_grid_points (int): Number of grid points for the stock price\n",
        "\n",
        "    Returns:\n",
        "    tuple: Tuple containing the following lists\n",
        "    (prices, deltas, gammas): Prices, deltas, and gammas of the European options in the portfolio\n",
        "    \"\"\"\n",
        "    spot_grid = generate_recombinant_tree(num_time_steps=num_grid_points, S=S, sigma=vol_max, T=T, r=r)\n",
        "    option_grid = initialize_option_grid(spot_grid, strikes[0], T, r, cp[0])\n",
        "\n",
        "    option_grids=np.stack([initialize_option_grid(spot_grid, strikes[i], T, r, cp[i]) for i in range(len(cp))])\n",
        "    portfolio_grid=np.zeros(option_grids[0,:,:].shape)\n",
        "\n",
        "    portfolio_grid[-1,:]=np.einsum('ij,i->j',option_grids[:,-1,:],qtys)\n",
        "    dt = T / (num_grid_points)\n",
        "\n",
        "    pu, pm, pd = trinomial_transition_probabilities_av(dt,r, vol_max, vol_max)\n",
        "\n",
        "    pu_min=pu*vol_min**2/(vol_max**2)\n",
        "    pd_min=pd*vol_min**2/(vol_max**2)\n",
        "    pm_min=1-pu_min-pd_min\n",
        "    \n",
        "    w_max=np.array([pu,pm,pd])\n",
        "    w_min=np.array([pu_min,pm_min,pd_min])\n",
        "\n",
        "    portfolio_gamma=np.zeros(portfolio_grid.shape[1])\n",
        "    L_operator=np.array(create_L_operator(dt,vol_max))\n",
        "\n",
        "    for t in range(num_grid_points - 1, -1, -1):\n",
        "        #1 calculate the gamma operator for the t+1 step\n",
        "        #2 chose the right transition probabilities for each element based on vol\n",
        "        #3 add up the weighted probabilities for each option\n",
        "        \n",
        "        portfolio_gamma=np.convolve(portfolio_grid[t+1,:],L_operator,mode='same')\n",
        "        for opt in range(len(cp)):\n",
        "            prev_values=option_grids[opt,t+1,:]\n",
        "            new_max_vol_values=np.convolve(prev_values,w_max,mode='same')\n",
        "            new_min_vol_values=np.convolve(prev_values,w_min,mode='same')\n",
        "            option_grids[opt,t,1:-2]=np.where(portfolio_gamma[1:-2]<0,new_max_vol_values[1:-2],new_min_vol_values[1:-2])*np.exp(-r*dt)\n",
        "        portfolio_grid[t,:]=np.einsum('ij,i->j',option_grids[:,t,:],qtys)\n",
        "    \n",
        "    option_prices=np.zeros(len(cp))\n",
        "    option_deltas=np.zeros(len(cp))\n",
        "    option_gammas=np.zeros(len(cp))\n",
        "\n",
        "    for (ind, qty) in enumerate(qtys):\n",
        "        K=strikes[ind]\n",
        "        option_grid = option_grids[ind,:,:]\n",
        "        price=np.interp(S, spot_grid[0, :], option_grid[0, :])\n",
        "        delta=np.interp(S, spot_grid[0,1:-2], (option_grid[0,2:-1]-option_grid[0,0:-3])/(spot_grid[0,2:-1]-spot_grid[0,0:-3]))\n",
        "        option_prices[ind]=price\n",
        "        option_deltas[ind]=delta\n",
        "    return (spot_grid, option_grids, option_prices, option_deltas)"
      ],
      "metadata": {
        "id": "-hvjVu9pDl6z"
      },
      "execution_count": 32,
      "outputs": []
    },
    {
      "cell_type": "markdown",
      "source": [
        "###Inputs"
      ],
      "metadata": {
        "id": "C4H8nFO7D4j5"
      }
    },
    {
      "cell_type": "code",
      "source": [
        "S= 100\n",
        "cp=['p','c']\n",
        "strikes = [90, 110]\n",
        "qtys = [-1, 1]\n",
        "T = 1 \n",
        "r = 0.05\n",
        "vol_min = 0.2\n",
        "vol_max = 0.2\n",
        "\n"
      ],
      "metadata": {
        "id": "Bg623JABCyq_"
      },
      "execution_count": 36,
      "outputs": []
    },
    {
      "cell_type": "markdown",
      "source": [
        "###Price"
      ],
      "metadata": {
        "id": "PzwWF-2ED7xa"
      }
    },
    {
      "cell_type": "code",
      "source": [
        "import py_vollib_vectorized as pv\n",
        "\n",
        "(spot_grid,option_grid,option_prices,option_deltas) = uncertain_volatility_pde_portfolio_v2(S,cp, strikes, qtys, T, r, vol_min, vol_max)\n",
        "implied_vol = pv.implied_volatility.vectorized_implied_volatility(option_prices, S, strikes, T, r, flag=cp,q=0,model='black_scholes_merton')\n",
        "all_greeks=pv.get_all_greeks(cp, S, strikes, T, r, implied_vol.IV, model='black_scholes_merton',q=0, return_as='dataframe')\n",
        "\n",
        "\n"
      ],
      "metadata": {
        "id": "5BNr10DhA0Nc"
      },
      "execution_count": 41,
      "outputs": []
    },
    {
      "cell_type": "code",
      "source": [
        "#create output dataframe with the following columns:\n",
        "#qty, spot price, strike price, call_put, option price, uvm delta, uvm gamma, bs implied vol, bs delta, bs gamma\n",
        "import pandas as pd\n",
        "\n",
        "df=pd.DataFrame(columns=['qty','spot','T','strike','call_put','bs_implied_vol','option_price','option_price_pct','uvm_delta','bs_delta','uvm_gamma','bs_gamma'])\n",
        "for i in range(len(cp)):\n",
        "    df.loc[i,'qty']=qtys[i]\n",
        "    df.loc[i,'spot']=S\n",
        "    df.loc[i,'T']=T\n",
        "    df.loc[i,'strike']=strikes[i]\n",
        "    df.loc[i,'call_put']=cp[i]\n",
        "    df.loc[i,'option_price']=option_prices[i]\n",
        "    df.loc[i,'option_price_pct']=option_prices[i]/S\n",
        "    df.loc[i,'uvm_delta']=option_deltas[i]\n",
        "    df.loc[i,'bs_implied_vol']=implied_vol.IV[i]\n",
        "\n",
        "    df.loc[i,'bs_delta']=all_greeks.loc[i,'delta']\n",
        "    df.loc[i,'bs_gamma']=all_greeks.loc[i,'gamma']*((S/(100))) #the scaling might be wrong\n",
        "\n",
        "formatted_df = df[['qty','spot','T','strike','call_put','bs_implied_vol','option_price','option_price_pct','uvm_delta','bs_delta']].style.format({\n",
        "    'qty': '{:,.0f}',\n",
        "    'spot': '{:.2f}',\n",
        "    'T': '{:.2f}',\n",
        "    'strike': '{:.2f}',\n",
        "    'call_put': '{:^10}',\n",
        "    'option_price': '{:.2f}',\n",
        "    'option_price_pct': '{:.2%}',\n",
        "    'uvm_delta': '{:.2%}',\n",
        "    'uvm_gamma': '{:.2%}',\n",
        "    'bs_implied_vol': '{:.2%}',\n",
        "    'bs_delta': '{:.2%}',\n",
        "    'bs_gamma': '{:.2%}'\n",
        "\n",
        "})\n"
      ],
      "metadata": {
        "id": "a3YW4sdTFsZj"
      },
      "execution_count": 42,
      "outputs": []
    },
    {
      "cell_type": "code",
      "source": [
        "display(formatted_df)"
      ],
      "metadata": {
        "colab": {
          "base_uri": "https://localhost:8080/",
          "height": 131
        },
        "id": "I0WQdLjHOgA5",
        "outputId": "270acbcd-9fb9-4c7a-dbb8-769f4e150978"
      },
      "execution_count": 43,
      "outputs": [
        {
          "output_type": "display_data",
          "data": {
            "text/plain": [
              "<pandas.io.formats.style.Styler at 0x7f5b43bc25b0>"
            ],
            "text/html": [
              "<style type=\"text/css\">\n",
              "</style>\n",
              "<table id=\"T_d57fc\" class=\"dataframe\">\n",
              "  <thead>\n",
              "    <tr>\n",
              "      <th class=\"blank level0\" >&nbsp;</th>\n",
              "      <th id=\"T_d57fc_level0_col0\" class=\"col_heading level0 col0\" >qty</th>\n",
              "      <th id=\"T_d57fc_level0_col1\" class=\"col_heading level0 col1\" >spot</th>\n",
              "      <th id=\"T_d57fc_level0_col2\" class=\"col_heading level0 col2\" >T</th>\n",
              "      <th id=\"T_d57fc_level0_col3\" class=\"col_heading level0 col3\" >strike</th>\n",
              "      <th id=\"T_d57fc_level0_col4\" class=\"col_heading level0 col4\" >call_put</th>\n",
              "      <th id=\"T_d57fc_level0_col5\" class=\"col_heading level0 col5\" >bs_implied_vol</th>\n",
              "      <th id=\"T_d57fc_level0_col6\" class=\"col_heading level0 col6\" >option_price</th>\n",
              "      <th id=\"T_d57fc_level0_col7\" class=\"col_heading level0 col7\" >option_price_pct</th>\n",
              "      <th id=\"T_d57fc_level0_col8\" class=\"col_heading level0 col8\" >uvm_delta</th>\n",
              "      <th id=\"T_d57fc_level0_col9\" class=\"col_heading level0 col9\" >bs_delta</th>\n",
              "    </tr>\n",
              "  </thead>\n",
              "  <tbody>\n",
              "    <tr>\n",
              "      <th id=\"T_d57fc_level0_row0\" class=\"row_heading level0 row0\" >0</th>\n",
              "      <td id=\"T_d57fc_row0_col0\" class=\"data row0 col0\" >-1</td>\n",
              "      <td id=\"T_d57fc_row0_col1\" class=\"data row0 col1\" >100.00</td>\n",
              "      <td id=\"T_d57fc_row0_col2\" class=\"data row0 col2\" >1.00</td>\n",
              "      <td id=\"T_d57fc_row0_col3\" class=\"data row0 col3\" >90.00</td>\n",
              "      <td id=\"T_d57fc_row0_col4\" class=\"data row0 col4\" >    p     </td>\n",
              "      <td id=\"T_d57fc_row0_col5\" class=\"data row0 col5\" >20.02%</td>\n",
              "      <td id=\"T_d57fc_row0_col6\" class=\"data row0 col6\" >2.32</td>\n",
              "      <td id=\"T_d57fc_row0_col7\" class=\"data row0 col7\" >2.32%</td>\n",
              "      <td id=\"T_d57fc_row0_col8\" class=\"data row0 col8\" >-19.03%</td>\n",
              "      <td id=\"T_d57fc_row0_col9\" class=\"data row0 col9\" >-19.05%</td>\n",
              "    </tr>\n",
              "    <tr>\n",
              "      <th id=\"T_d57fc_level0_row1\" class=\"row_heading level0 row1\" >1</th>\n",
              "      <td id=\"T_d57fc_row1_col0\" class=\"data row1 col0\" >1</td>\n",
              "      <td id=\"T_d57fc_row1_col1\" class=\"data row1 col1\" >100.00</td>\n",
              "      <td id=\"T_d57fc_row1_col2\" class=\"data row1 col2\" >1.00</td>\n",
              "      <td id=\"T_d57fc_row1_col3\" class=\"data row1 col3\" >110.00</td>\n",
              "      <td id=\"T_d57fc_row1_col4\" class=\"data row1 col4\" >    c     </td>\n",
              "      <td id=\"T_d57fc_row1_col5\" class=\"data row1 col5\" >20.02%</td>\n",
              "      <td id=\"T_d57fc_row1_col6\" class=\"data row1 col6\" >6.05</td>\n",
              "      <td id=\"T_d57fc_row1_col7\" class=\"data row1 col7\" >6.05%</td>\n",
              "      <td id=\"T_d57fc_row1_col8\" class=\"data row1 col8\" >44.99%</td>\n",
              "      <td id=\"T_d57fc_row1_col9\" class=\"data row1 col9\" >44.98%</td>\n",
              "    </tr>\n",
              "  </tbody>\n",
              "</table>\n"
            ]
          },
          "metadata": {}
        }
      ]
    }
  ]
}