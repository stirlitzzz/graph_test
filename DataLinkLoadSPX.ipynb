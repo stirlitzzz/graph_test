{
 "cells": [
  {
   "cell_type": "code",
   "execution_count": 1,
   "metadata": {},
   "outputs": [],
   "source": [
    "import nasdaqdatalink\n",
    "data = nasdaqdatalink.get('OPT/SPX')"
   ]
  },
  {
   "cell_type": "code",
   "execution_count": 5,
   "metadata": {},
   "outputs": [],
   "source": [
    "import numpy as np\n",
    "import pandas as pd"
   ]
  },
  {
   "cell_type": "code",
   "execution_count": 37,
   "metadata": {},
   "outputs": [],
   "source": [
    "row=data.iloc[0].to_dict()\n",
    "row\n",
    "out_terms=np.array([1,30,60.90,120,540])"
   ]
  },
  {
   "cell_type": "code",
   "execution_count": 38,
   "metadata": {},
   "outputs": [
    {
     "data": {
      "text/plain": [
       "array([-1.49186414, -2.58679762, -4.08276237, -5.64073486, -5.64073486])"
      ]
     },
     "execution_count": 38,
     "metadata": {},
     "output_type": "execute_result"
    }
   ],
   "source": [
    "\n",
    "#row=data[0].to_dict()\n",
    "row=data.iloc[0].to_dict()\n",
    "#compute vols\n",
    "\n",
    "terms={'iv30':30,\n",
    "       'iv60':60,\n",
    "       'iv90':90,\n",
    "}\n",
    "for i in range(1,5):\n",
    "    terms['m'+str(i)+'atmiv']=row[\"m\"+str(i)+\"dtex\"]\n",
    "\n",
    "sorted_arr=sorted(terms.items(), key=lambda x: x[1])\n",
    "terms=np.array([x[1] for x in sorted_arr])\n",
    "vols=np.array([row[x[0]] for x in sorted_arr])\n",
    "\n",
    "weights30=np.sqrt(30)/np.sqrt(np.maximum(terms,30))\n",
    "weights_inf=1-weights30\n",
    "orats_interp_slopes=weights30*row[\"slope\"]+(1-weights30)*row[\"slope_inf\"]\n",
    "orats_interp_derivs=weights30*row[\"deriv\"]+(1-weights30)*row[\"deriv_inf\"]\n",
    "texp=terms/365.25\n",
    "\n",
    "terms\n",
    "orats_interp_slopes\n",
    "\n",
    "import py_vollib.black_scholes\n",
    "import py_vollib_vectorized\n",
    "\n",
    "option_price90=py_vollib_vectorized.models.vectorized_black_scholes_merton('c', 100,95,texp, 0, vols,0,return_as='array')\n",
    "option_greeks90 = py_vollib_vectorized.get_all_greeks('c', 100,95,texp, 0, vols,0,model='black_scholes_merton', return_as='dict')\n",
    "option_price110=py_vollib_vectorized.models.vectorized_black_scholes_merton('c', 100,105,texp, 0, vols,0,return_as='array')\n",
    "option_greeks110 = py_vollib_vectorized.get_all_greeks('c', 100,105,texp, 0, vols/100,0,model='black_scholes_merton', return_as='dict')\n",
    "delta90=np.array(option_greeks90['delta'])\n",
    "delta110=np.array(option_greeks110['delta'])\n",
    "vols\n",
    "vols90=vols*(1+(orats_interp_slopes/1000+(orats_interp_derivs/1000*(delta90*100-50)/2))*(delta90*100-50))\n",
    "vols110=vols*(1+(orats_interp_slopes/1000+(orats_interp_derivs/1000*(delta110*100-50)/2))*(delta110*100-50))\n",
    "log_slopes=(vols110-vols90)/(np.log(1.05/.95)*10)*np.sqrt(texp)\n",
    "log_slopes\n",
    "out_slopes=np.interp(out_terms,terms,log_slopes)\n",
    "out_vols=np.interp(out_terms,terms,vols)"
   ]
  }
 ],
 "metadata": {
  "kernelspec": {
   "display_name": "base",
   "language": "python",
   "name": "python3"
  },
  "language_info": {
   "codemirror_mode": {
    "name": "ipython",
    "version": 3
   },
   "file_extension": ".py",
   "mimetype": "text/x-python",
   "name": "python",
   "nbconvert_exporter": "python",
   "pygments_lexer": "ipython3",
   "version": "3.10.8"
  },
  "orig_nbformat": 4,
  "vscode": {
   "interpreter": {
    "hash": "b3f891915f5e54f8277f3503ba6bfa153f48eaa19dd0131aee95f74186c1b9af"
   }
  }
 },
 "nbformat": 4,
 "nbformat_minor": 2
}
