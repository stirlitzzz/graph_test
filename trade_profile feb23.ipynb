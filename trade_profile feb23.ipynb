{
 "cells": [
  {
   "cell_type": "code",
   "execution_count": 101,
   "metadata": {},
   "outputs": [],
   "source": [
    "import pandas as pd\n",
    "import numpy as np\n",
    "import py_vollib.black_scholes\n",
    "import py_vollib_vectorized"
   ]
  },
  {
   "attachments": {},
   "cell_type": "markdown",
   "metadata": {},
   "source": [
    "Code to store the spot, expiration grids for pricing"
   ]
  },
  {
   "cell_type": "code",
   "execution_count": 102,
   "metadata": {},
   "outputs": [],
   "source": [
    "class grid_params:\n",
    "    def __init__(self, num_time_steps,low_spot, spot_incr, num_spots,max_texp) -> None:\n",
    "        self.num_time_steps = num_time_steps\n",
    "        self.low_spot = low_spot\n",
    "        self.spot_incr = spot_incr\n",
    "        self.num_spots = num_spots\n",
    "        self.max_texp=max_texp\n",
    "        self.texp_dim=np.linspace(max_texp,0,num_time_steps+1)[:-1]\n",
    "        self.spot_dim=np.arange(low_spot,low_spot+num_spots*spot_incr,spot_incr)\n",
    "        self.time_steps = np.arange(0, num_time_steps, 1)\n",
    "        self.num_spots=len(self.spot_dim)\n",
    "        [self.spot_grid,self.texp_grid]=np.meshgrid(self.spot_dim,self.texp_dim)\n",
    "\n",
    "class market_data:\n",
    "    def __init__(self, spot, q, r, vol,slope) -> None:\n",
    "        self.spot = spot\n",
    "        self.q = q\n",
    "        self.r = r\n",
    "        self.vol = vol\n",
    "        self.slope=slope\n",
    "    "
   ]
  },
  {
   "attachments": {},
   "cell_type": "markdown",
   "metadata": {},
   "source": [
    "input texp grid goes from 1 to max_texp.\n",
    "For each instrument I need to adjust the grid to go from texp for the instrument to zero and then stay at zero"
   ]
  },
  {
   "cell_type": "code",
   "execution_count": 103,
   "metadata": {},
   "outputs": [],
   "source": [
    "def create_adjusted_texp_grid(texp_grid, option_texp, max_texp):\n",
    "    texp_gridi=texp_grid-(max_texp-option_texp)\n",
    "    texp_gridi_zero=texp_gridi.copy()\n",
    "    texp_gridi_zero[texp_gridi_zero<0]=0\n",
    "    return texp_gridi_zero\n",
    "\n",
    "def create_constant_grid(param, num_time_steps, num_spots):\n",
    "    cp_grid=np.full((num_time_steps,num_spots),param, dtype=type(param))\n",
    "    return cp_grid"
   ]
  },
  {
   "attachments": {},
   "cell_type": "markdown",
   "metadata": {},
   "source": [
    "Initialize all of the data structures so that everything works properly when test step by step"
   ]
  },
  {
   "cell_type": "code",
   "execution_count": 104,
   "metadata": {},
   "outputs": [],
   "source": [
    "num_time_steps=10\n",
    "num_spots=19\n",
    "low_strike=.5\n",
    "incr_strike=.1\n",
    "high_strike=2.0"
   ]
  },
  {
   "cell_type": "code",
   "execution_count": 145,
   "metadata": {},
   "outputs": [],
   "source": [
    "qty=np.array([-1,1]*2)*1000000\n",
    "texp=[1,1,2,2]\n",
    "k=[.9,1.2]*2\n",
    "k_dlr=k\n",
    "cp=['p','c']*2\n",
    "sigma=[.20,.2]*2\n",
    "\n",
    "md=market_data(100,0,0,.2,.1)\n",
    "data = {'qty': qty,\n",
    "        'texp': texp,\n",
    "        'k':k,\n",
    "        '$k':k,\n",
    "        'cp': cp,\n",
    "        'sigma':sigma}\n",
    "df_inp=pd.DataFrame(data)\n",
    "max_texp=np.max(texp)\n",
    "grid_settings=grid_params(num_time_steps,low_strike,incr_strike,num_spots,max_texp)\n",
    "#vars(grid_settings)"
   ]
  },
  {
   "cell_type": "code",
   "execution_count": 106,
   "metadata": {},
   "outputs": [],
   "source": [
    "def adjust_params_scenario(row, inplace=False):\n",
    "    spot_jump=-.25\n",
    "    result=row\n",
    "    if(inplace==False):\n",
    "        result=row.copy()\n",
    "    #result=row.copy()\n",
    "    result[\"spot\"]=row[\"spot\"]*(1+spot_jump)\n",
    "    return result"
   ]
  },
  {
   "cell_type": "code",
   "execution_count": 147,
   "metadata": {},
   "outputs": [
    {
     "data": {
      "text/plain": [
       "(4, 10, 20)"
      ]
     },
     "execution_count": 147,
     "metadata": {},
     "output_type": "execute_result"
    }
   ],
   "source": [
    "def create_input_grids(r, q,spot_price, df_inp,grid_settings):\n",
    "    df_grids=df_inp.copy()\n",
    "\n",
    "    df_grids[\"r\"]=r\n",
    "    df_grids[\"q\"]=q\n",
    "    df_grids[\"texp\"]=df_grids[\"texp\"].apply(lambda x: create_adjusted_texp_grid(grid_settings.texp_grid, x, max_texp))\n",
    "    df_grids[[\"qty\",\"k\",\"cp\",\"sigma\"]]=df_inp[[\"qty\",\"k\",\"cp\",\"sigma\"]].applymap(lambda x: create_constant_grid(x, grid_settings.num_time_steps, grid_settings.num_spots))\n",
    "    df_grids[[\"q\",\"r\"]]=df_grids[[\"q\",\"r\"]].applymap(lambda x: create_constant_grid(x, grid_settings.num_time_steps, grid_settings.num_spots))\n",
    "    df_grids[[\"spot\"]]=df_inp[[\"qty\"]].applymap(lambda x: grid_settings.spot_grid)\n",
    "    bs_input={}\n",
    "\n",
    "    for col in df_grids.columns:\n",
    "        bs_input[col]=np.stack(list(df_grids[col]))\n",
    "    \n",
    "    return (df_grids, bs_input)\n",
    "\n",
    "(df_grids, bs_input)=create_input_grids(.01,0,1,df_inp,grid_settings)\n",
    "\n",
    "bs_input[\"spot\"].shape"
   ]
  },
  {
   "cell_type": "code",
   "execution_count": 149,
   "metadata": {},
   "outputs": [
    {
     "data": {
      "text/plain": [
       "(4, 10, 20)"
      ]
     },
     "execution_count": 149,
     "metadata": {},
     "output_type": "execute_result"
    }
   ],
   "source": [
    "\n",
    "def price_grids(opt,mkt_data):\n",
    "    #1 compute the junmp price\n",
    "    #2 compute jump P&L\n",
    "    #3 add the option price and jump p&L into the greeks dictionary\n",
    "    #4 reshape the greeks dictionary\n",
    "    #5 compute the totals\n",
    "    #6 return the greeks dictionary\n",
    "    #for some reason the vollib vectorized functions only work with flattened CP arrays\n",
    "    #they also return a flattened array output so we need to reshape the output\n",
    "    #to match the input shape\n",
    "    \n",
    "    option_price=py_vollib_vectorized.models.vectorized_black_scholes_merton(opt['cp'].flatten(), opt[\"spot\"], opt['k'],opt['texp'], mkt_data.r, opt['sigma'],mkt_data.q,return_as='array')\n",
    "    option_greeks = py_vollib_vectorized.get_all_greeks(opt['cp'].flatten(), opt[\"spot\"], opt['k'], opt['texp'], mkt_data.r, opt[\"sigma\"],mkt_data.q,model='black_scholes_merton', return_as='dict')\n",
    "\n",
    "    opt_jump=opt.copy()\n",
    "    adjust_params_scenario(opt_jump,inplace=True)\n",
    "    jump_option_price=py_vollib_vectorized.models.vectorized_black_scholes_merton(opt_jump['cp'].flatten(), opt_jump[\"spot\"], opt_jump['k'],opt_jump['texp'], mkt_data.r, opt_jump['sigma'],mkt_data.q,return_as='array')\n",
    "\n",
    "    option_greeks[\"price\"]=option_price\n",
    "    option_greeks[\"price_jump\"]=jump_option_price\n",
    "    option_greeks = {k: np.array(v).reshape(opt['k'].shape) for k, v in option_greeks.items()}\n",
    "    option_greeks = {k: np.where(opt[\"texp\"]>0,v,0) for k, v in option_greeks.items()}\n",
    "    option_greeks[\"jump_pl\"]=(option_greeks[\"price_jump\"]-option_greeks[\"price\"])-option_greeks[\"delta\"]*(opt_jump[\"spot\"]-opt[\"spot\"])\n",
    "    option_greeks[\"gamma\"]=option_greeks[\"gamma\"]/100\n",
    "\n",
    "    dict_sum_grids={}\n",
    "    for field in [\"price\",\"delta\",\"gamma\",\"vega\",\"rho\",\"theta\",\"jump_pl\",\"price_jump\"]:\n",
    "        dict_sum_grids[field]=(option_greeks[field]*opt[\"qty\"]).sum(axis=0)\n",
    "    return(option_greeks,dict_sum_grids)\n",
    "\n",
    "\n",
    "option_greeks,sum_greeks=price_grids(bs_input,md)\n",
    "option_greeks[\"price\"].shape "
   ]
  },
  {
   "cell_type": "code",
   "execution_count": 150,
   "metadata": {},
   "outputs": [
    {
     "data": {
      "text/plain": [
       "{'spot': 100, 'q': 0, 'r': 0, 'vol': 0.2, 'slope': 0.1}"
      ]
     },
     "execution_count": 150,
     "metadata": {},
     "output_type": "execute_result"
    }
   ],
   "source": [
    "def price_input_df(df,r,q):\n",
    "    option_price=py_vollib_vectorized.models.vectorized_black_scholes_merton(df['cp'], 1, df['k'],df['texp'], r, df['sigma'],q,return_as='array')\n",
    "    option_greeks = py_vollib_vectorized.get_all_greeks(df['cp'], 1, df['k'], df['texp'], r, df[\"sigma\"],q,model='black_scholes_merton', return_as='dict')\n",
    "    df['cp']\n",
    "    df[\"price\"]=option_price\n",
    "    df[\"delta\"]=option_greeks[\"delta\"]\n",
    "    df[\"gamma\"]=option_greeks[\"gamma\"]\n",
    "    df[\"vega\"]=option_greeks[\"vega\"]\n",
    "\n",
    "df_priced=df_inp.copy()\n",
    "price_input_df(df_priced, md.r, md.q)\n",
    "df_priced\n",
    "vars(md)"
   ]
  },
  {
   "cell_type": "code",
   "execution_count": 143,
   "metadata": {},
   "outputs": [
    {
     "data": {
      "application/vnd.jupyter.widget-view+json": {
       "model_id": "630c61793c024524aaac965e020c344b",
       "version_major": 2,
       "version_minor": 0
      },
      "text/plain": [
       "VBox(children=(Dropdown(description='Columns to graph', index=3, options=('price', 'delta', 'gamma', 'vega', '…"
      ]
     },
     "metadata": {},
     "output_type": "display_data"
    },
    {
     "data": {
      "application/vnd.jupyter.widget-view+json": {
       "model_id": "2c7adfd0a1b244158f78e78767201a48",
       "version_major": 2,
       "version_minor": 0
      },
      "text/plain": [
       "Output()"
      ]
     },
     "metadata": {},
     "output_type": "display_data"
    }
   ],
   "source": [
    "import ipywidgets as widgets\n",
    "from IPython.display import display\n",
    "\n",
    "w_greek_selector=widgets.Dropdown(\n",
    "    options=list(sum_greeks.keys()),\n",
    "    value=list(sum_greeks.keys())[3],\n",
    "    #rows=10,\n",
    "    description='Columns to graph',\n",
    "    disabled=False\n",
    ")\n",
    "\n",
    "w_option_pricing=widgets.Output()\n",
    "\n",
    "w_box=widgets.VBox([w_greek_selector,w_option_pricing])\n",
    "\n",
    "def display_field(field):\n",
    "    (df_grids,bs_input)=create_input_grids(md.r,md.q, 1, df_inp, grid_settings)\n",
    "    (dict_grids,dict_sum_grids)=price_grids(bs_input,md)\n",
    "    scales_factor={'price':1,'delta':1,'gamma':1/1000000*md.spot,'rho':md.spot,'theta':1,'jump_pl':md.spot/1000000,'vega':md.spot/1000,'price_jump':1}\n",
    "    df = pd.DataFrame(dict_sum_grids[field]*scales_factor[field], columns = grid_settings.spot_dim, index = grid_settings.texp_dim)\n",
    "    display(df.style.format('{:.1f}').format_index('{:.2f}').format_index('{:.1%}', axis=1).background_gradient(axis=None, cmap=\"RdBu_r\", low=.2, high=.2))\n",
    "    df_priced=df_inp.copy()\n",
    "    price_input_df(df_priced, md.r, md.q)\n",
    "    df_priced[\"price\"]*=md.spot\n",
    "    df_priced[\"$k\"]=df_priced[\"k\"]*md.spot\n",
    "    w_option_pricing.clear_output()\n",
    "    with w_option_pricing:\n",
    "        \n",
    "        display(df_priced.style.format({\"qty\": \"{:,d}\", \n",
    "                          \"texp\": \"{:.2f}\", \n",
    "                          \"price\": \"{:.2f}\",\n",
    "                          \"k\": \"{:.2f}\",\n",
    "                          \"$k\": \"${:.2f}\",\n",
    "                          \"sigma\": \"{:.2%}\", \n",
    "                          \"delta\":\"{:.2%}\"}))\n",
    "out1 = widgets.interactive_output(display_field, {'field': w_greek_selector})\n",
    "display(w_box)\n",
    "display(out1)\n"
   ]
  },
  {
   "cell_type": "code",
   "execution_count": 152,
   "metadata": {},
   "outputs": [
    {
     "data": {
      "application/vnd.jupyter.widget-view+json": {
       "model_id": "630c61793c024524aaac965e020c344b",
       "version_major": 2,
       "version_minor": 0
      },
      "text/plain": [
       "VBox(children=(Dropdown(description='Columns to graph', index=2, options=('price', 'delta', 'gamma', 'vega', '…"
      ]
     },
     "metadata": {},
     "output_type": "display_data"
    },
    {
     "data": {
      "application/vnd.jupyter.widget-view+json": {
       "model_id": "2c7adfd0a1b244158f78e78767201a48",
       "version_major": 2,
       "version_minor": 0
      },
      "text/plain": [
       "Output(outputs=({'output_type': 'display_data', 'data': {'text/plain': '<pandas.io.formats.style.Styler at 0x2…"
      ]
     },
     "metadata": {},
     "output_type": "display_data"
    }
   ],
   "source": [
    "#inputs go here\n",
    "\n",
    "qty=np.array([-1,1]*2)*1000000\n",
    "texp=[1,1,2,2]\n",
    "k=[.9,1.2]*2\n",
    "k_dlr=k\n",
    "cp=['p','c']*2\n",
    "sigma=[.20,.2]*2\n",
    "r=0\n",
    "q=0\n",
    "spot=100\n",
    "\n",
    "\n",
    "######## don't change below this line: this is putting the inputs into a dataframe\n",
    "md=market_data(spot,r,q,.2,.1)\n",
    "data = {'qty': qty,\n",
    "        'texp': texp,\n",
    "        'k':k,\n",
    "        '$k':k,\n",
    "        'cp': cp,\n",
    "        'sigma':sigma}\n",
    "df_inp=pd.DataFrame(data)\n",
    "max_texp=np.max(texp)\n",
    "grid_settings=grid_params(num_time_steps,low_strike,incr_strike,num_spots,max_texp)\n",
    "vars(grid_settings)\n",
    "display(w_box)\n",
    "display(out1)"
   ]
  }
 ],
 "metadata": {
  "kernelspec": {
   "display_name": "base",
   "language": "python",
   "name": "python3"
  },
  "language_info": {
   "codemirror_mode": {
    "name": "ipython",
    "version": 3
   },
   "file_extension": ".py",
   "mimetype": "text/x-python",
   "name": "python",
   "nbconvert_exporter": "python",
   "pygments_lexer": "ipython3",
   "version": "3.10.8"
  },
  "orig_nbformat": 4,
  "vscode": {
   "interpreter": {
    "hash": "b3f891915f5e54f8277f3503ba6bfa153f48eaa19dd0131aee95f74186c1b9af"
   }
  }
 },
 "nbformat": 4,
 "nbformat_minor": 2
}
