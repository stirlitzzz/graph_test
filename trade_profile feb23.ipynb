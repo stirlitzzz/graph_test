{
 "cells": [
  {
   "cell_type": "code",
   "execution_count": 1,
   "metadata": {},
   "outputs": [],
   "source": [
    "import pandas as pd\n",
    "import numpy as np\n",
    "import py_vollib.black_scholes\n",
    "import py_vollib_vectorized"
   ]
  },
  {
   "cell_type": "code",
   "execution_count": null,
   "metadata": {},
   "outputs": [],
   "source": [
    "class grid_params:\n",
    "    def __init__(self) -> None:\n",
    "        \n",
    "    "
   ]
  },
  {
   "cell_type": "code",
   "execution_count": 2,
   "metadata": {},
   "outputs": [],
   "source": [
    "qty=np.array([-1,1]*2)*1000000\n",
    "texp=[1,1,2,2]\n",
    "k=[.9,1.2]*2\n",
    "k_dlr=k\n",
    "cp=['p','c']*2\n",
    "sigma=[.20,.2]*2"
   ]
  }
 ],
 "metadata": {
  "kernelspec": {
   "display_name": "base",
   "language": "python",
   "name": "python3"
  },
  "language_info": {
   "codemirror_mode": {
    "name": "ipython",
    "version": 3
   },
   "file_extension": ".py",
   "mimetype": "text/x-python",
   "name": "python",
   "nbconvert_exporter": "python",
   "pygments_lexer": "ipython3",
   "version": "3.10.8"
  },
  "orig_nbformat": 4,
  "vscode": {
   "interpreter": {
    "hash": "b3f891915f5e54f8277f3503ba6bfa153f48eaa19dd0131aee95f74186c1b9af"
   }
  }
 },
 "nbformat": 4,
 "nbformat_minor": 2
}
