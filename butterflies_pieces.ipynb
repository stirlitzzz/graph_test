{
 "cells": [
  {
   "cell_type": "code",
   "execution_count": 1,
   "metadata": {},
   "outputs": [],
   "source": [
    "import pandas as pd\n",
    "import numpy as np\n",
    "import py_vollib.black_scholes\n",
    "import py_vollib_vectorized"
   ]
  },
  {
   "cell_type": "code",
   "execution_count": 11,
   "metadata": {},
   "outputs": [
    {
     "data": {
      "text/plain": [
       "0.24214420626313055"
      ]
     },
     "execution_count": 11,
     "metadata": {},
     "output_type": "execute_result"
    }
   ],
   "source": [
    "def ComputeVol(sigma,slope,strike,spot, texp):\n",
    "    # sigma is the ATM volatility of the underlying\n",
    "    # slope is the log normal slope\n",
    "    # strike is the strike price\n",
    "    # spot is the spot price\n",
    "    # texp is the time to expiration in years\n",
    "\n",
    "    # Compute the log normal volatility\n",
    "    kvol = sigma + slope * np.log(np.array(strike)/np.array(spot))/np.sqrt(np.array(texp))*10\n",
    "    return kvol\n",
    "\n",
    "\n",
    "k=90\n",
    "s=100\n",
    "t=.25\n",
    "sigma=0.2\n",
    "slope=-0.02\n",
    "kvol=ComputeVol(sigma,slope,k,s,t)\n",
    "kvol\n",
    "\n"
   ]
  },
  {
   "cell_type": "code",
   "execution_count": 3,
   "metadata": {},
   "outputs": [
    {
     "data": {
      "text/plain": [
       "['p', 'p', 'c', 'c']"
      ]
     },
     "execution_count": 3,
     "metadata": {},
     "output_type": "execute_result"
    }
   ],
   "source": [
    "strikes=[.92,1,1,1.08]\n",
    "maturities=[.25]*4\n",
    "cp=['p']*2+['c']*2\n"
   ]
  }
 ],
 "metadata": {
  "kernelspec": {
   "display_name": "base",
   "language": "python",
   "name": "python3"
  },
  "language_info": {
   "codemirror_mode": {
    "name": "ipython",
    "version": 3
   },
   "file_extension": ".py",
   "mimetype": "text/x-python",
   "name": "python",
   "nbconvert_exporter": "python",
   "pygments_lexer": "ipython3",
   "version": "3.10.8"
  },
  "orig_nbformat": 4,
  "vscode": {
   "interpreter": {
    "hash": "b3f891915f5e54f8277f3503ba6bfa153f48eaa19dd0131aee95f74186c1b9af"
   }
  }
 },
 "nbformat": 4,
 "nbformat_minor": 2
}
